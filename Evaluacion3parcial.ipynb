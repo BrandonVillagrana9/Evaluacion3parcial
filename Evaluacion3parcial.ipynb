{
  "nbformat": 4,
  "nbformat_minor": 0,
  "metadata": {
    "colab": {
      "name": "Evaluacion3parcial.ipynb",
      "provenance": [],
      "collapsed_sections": []
    },
    "kernelspec": {
      "name": "python3",
      "display_name": "Python 3"
    }
  },
  "cells": [
    {
      "cell_type": "code",
      "metadata": {
        "id": "_wHciPCYL2SL"
      },
      "source": [
        "##VILLAGRANA APARICIO BRANDON JAIR\r\n",
        "##Método JACOBI problema 1\r\n",
        "import matplotlib.pyplot as plt\r\n",
        "import numpy"
      ],
      "execution_count": 25,
      "outputs": []
    },
    {
      "cell_type": "code",
      "metadata": {
        "colab": {
          "base_uri": "https://localhost:8080/"
        },
        "id": "70oBrd77L74u",
        "outputId": "b5bf11b8-6d57-4228-cc6f-69c831e8415e"
      },
      "source": [
        "m=int(input('ingrese el valor de m:'))\r\n",
        "n=int(input('Ingrese el valor de n:'))\r\n",
        "ma = numpy.zeros((m,n))\r\n",
        "x=numpy.zeros((m))\r\n",
        "vector=numpy.zeros((n))\r\n",
        "comp=numpy.zeros((m))\r\n",
        "error=[]"
      ],
      "execution_count": 26,
      "outputs": [
        {
          "output_type": "stream",
          "text": [
            "ingrese el valor de m:3\n",
            "Ingrese el valor de n:3\n"
          ],
          "name": "stdout"
        }
      ]
    },
    {
      "cell_type": "code",
      "metadata": {
        "colab": {
          "base_uri": "https://localhost:8080/"
        },
        "id": "TXJwKeqvL8Mx",
        "outputId": "13a1dcc3-fe35-4160-f5ca-ea5567ce6758"
      },
      "source": [
        "print ('Ingrese los valores')\r\n",
        "for r in range(0,m):\r\n",
        "    for c in range(0,n):\r\n",
        "        ma[(r),(c)]=float(input(\"Ingrese el elemento a[\"+str(r+1)+str(c+1)+\"] \"))\r\n",
        "    vector[(r)]=float(input('b['+str(r+1)+']: '))\r\n",
        "tol=float(input(\"Ingrese el error: \"))\r\n",
        "itera=int(input(\"Ingrese el número de iteraciones: \"))"
      ],
      "execution_count": 27,
      "outputs": [
        {
          "output_type": "stream",
          "text": [
            "Ingrese los valores\n",
            "Ingrese el elemento a[11] 9\n",
            "Ingrese el elemento a[12] 2\n",
            "Ingrese el elemento a[13] -1\n",
            "b[1]: -2\n",
            "Ingrese el elemento a[21] 7\n",
            "Ingrese el elemento a[22] 8\n",
            "Ingrese el elemento a[23] 5\n",
            "b[2]: 3\n",
            "Ingrese el elemento a[31] 3\n",
            "Ingrese el elemento a[32] 4\n",
            "Ingrese el elemento a[33] -10\n",
            "b[3]: 6\n",
            "Ingrese el error: 0.0001\n",
            "Ingrese el número de iteraciones: 4\n"
          ],
          "name": "stdout"
        }
      ]
    },
    {
      "cell_type": "code",
      "metadata": {
        "colab": {
          "base_uri": "https://localhost:8080/"
        },
        "id": "o0RSqKkiL8a5",
        "outputId": "4c0bff56-b09f-4762-da42-a1d4c0b58a2a"
      },
      "source": [
        "k=0\r\n",
        "while k<itera:\r\n",
        "    suma=0\r\n",
        "    k=k+1\r\n",
        "    for r in range(0,m):\r\n",
        "        suma=0\r\n",
        "        for c in range(0,n):\r\n",
        "            if (c!= r):\r\n",
        "                suma=suma+ma[r,c]*x[c]               \r\n",
        "        x[r]=(vector[r]-suma)/ma[r,r]\r\n",
        "        print(\" \")\r\n",
        "        print(\"x[\"+str(r)+\"]: \"+ str(x[r]))\r\n",
        "    del error[:]\r\n",
        "    for r in range (0,m):\r\n",
        "        suma =0\r\n",
        "        for c in range(0,n):\r\n",
        "            suma= suma+ma[r,c]*x[c]\r\n",
        "        comp[r]= suma\r\n",
        "        dif=abs(comp[r]-vector[r])\r\n",
        "        error.append(dif)\r\n",
        "        print(\" \")\r\n",
        "        print(\"Error en x[\",r,\"]= \", error[r])\r\n",
        "    print(\"Iteraciones: \", k)\r\n",
        "    if all (i<=tol for i in error) == True:\r\n",
        "        break"
      ],
      "execution_count": 28,
      "outputs": [
        {
          "output_type": "stream",
          "text": [
            " \n",
            "x[0]: -0.2222222222222222\n",
            " \n",
            "x[1]: 0.5694444444444444\n",
            " \n",
            "x[2]: -0.43888888888888894\n",
            " \n",
            "Error en x[ 0 ]=  1.5777777777777777\n",
            " \n",
            "Error en x[ 1 ]=  2.1944444444444446\n",
            " \n",
            "Error en x[ 2 ]=  0.0\n",
            "Iteraciones:  1\n",
            " \n",
            "x[0]: -0.3975308641975308\n",
            " \n",
            "x[1]: 0.997145061728395\n",
            " \n",
            "x[2]: -0.3204012345679012\n",
            " \n",
            "Error en x[ 0 ]=  0.7369135802469138\n",
            " \n",
            "Error en x[ 1 ]=  0.5924382716049386\n",
            " \n",
            "Error en x[ 2 ]=  0.0\n",
            "Iteraciones:  2\n",
            " \n",
            "x[0]: -0.4794101508916323\n",
            " \n",
            "x[1]: 0.9947346536351165\n",
            " \n",
            "x[2]: -0.3459291838134431\n",
            " \n",
            "Error en x[ 0 ]=  0.020707133058985416\n",
            " \n",
            "Error en x[ 1 ]=  0.12763974622771013\n",
            " \n",
            "Error en x[ 2 ]=  0.0\n",
            "Iteraciones:  3\n",
            " \n",
            "x[0]: -0.4817109434537418\n",
            " \n",
            "x[1]: 1.012702815405426\n",
            " \n",
            "x[2]: -0.3394321568739521\n",
            " \n",
            "Error en x[ 0 ]=  0.02943929660112765\n",
            " \n",
            "Error en x[ 1 ]=  0.03248513469745529\n",
            " \n",
            "Error en x[ 2 ]=  0.0\n",
            "Iteraciones:  4\n"
          ],
          "name": "stdout"
        }
      ]
    },
    {
      "cell_type": "code",
      "metadata": {
        "colab": {
          "base_uri": "https://localhost:8080/",
          "height": 282
        },
        "id": "7aEOZ-m4L8rc",
        "outputId": "d1c7382d-b165-4376-f259-5d979810f6d8"
      },
      "source": [
        "plt.plot(ma)\r\n",
        "plt.show"
      ],
      "execution_count": 29,
      "outputs": [
        {
          "output_type": "execute_result",
          "data": {
            "text/plain": [
              "<function matplotlib.pyplot.show>"
            ]
          },
          "metadata": {
            "tags": []
          },
          "execution_count": 29
        },
        {
          "output_type": "display_data",
          "data": {
            "image/png": "[encoded data removed]",
            "text/plain": [
              "<Figure size 432x288 with 1 Axes>"
            ]
          },
          "metadata": {
            "tags": [],
            "needs_background": "light"
          }
        }
      ]
    },
    {
      "cell_type": "code",
      "metadata": {
        "id": "45ucqRvKL835"
      },
      "source": [
        "##Método GAUSS-SEIDEL problema 1\r\n",
        "import matplotlib.pyplot as plt\r\n",
        "import math"
      ],
      "execution_count": 30,
      "outputs": []
    },
    {
      "cell_type": "code",
      "metadata": {
        "colab": {
          "base_uri": "https://localhost:8080/",
          "height": 316
        },
        "id": "AoX01jqgL9QS",
        "outputId": "04c92af0-4e31-4563-94b0-6872a40d99df"
      },
      "source": [
        "def Gauss():\r\n",
        "\r\n",
        "  def x2(y,z):\r\n",
        "    return  (-0.22 - (0.22*y) + (0.11*z))\r\n",
        "  def y2(x,z):\r\n",
        "    return  (0.375 - (0.875*x) - (0.625*z))\r\n",
        "  def z2(x,y):\r\n",
        "    return  (-0.6 + (0.3*x) + (0.4*y))\r\n",
        "  \r\n",
        "  x1=[0]\r\n",
        "  y1=[0]\r\n",
        "  z1=[0]\r\n",
        "  \r\n",
        "  cont = 0\r\n",
        "  x=0\r\n",
        "  y=0\r\n",
        "  z=0\r\n",
        " \r\n",
        "\r\n",
        "  while(cont < 4):\r\n",
        "    x = x2(y,z)\r\n",
        "    x1.append(x)\r\n",
        "    y = y2(x,z)\r\n",
        "    y1.append(y)\r\n",
        "    z = z2(x,y)\r\n",
        "    z1.append(z)\r\n",
        "    \r\n",
        "    cont += 1\r\n",
        "  \r\n",
        "  print('x: '+ str (x1))\r\n",
        "  print('y: '+ str (y1))\r\n",
        "  print('z: '+ str (z1))\r\n",
        " \r\n",
        "\r\n",
        "  plt.plot(x1, label = \"x\")\r\n",
        "  plt.plot(y1, label = \"y\")\r\n",
        "  plt.plot(z1, label = \"z\")\r\n",
        "  \r\n",
        "  plt.legend()\r\n",
        "  plt.show()\r\n",
        "\r\n",
        "Gauss()"
      ],
      "execution_count": 31,
      "outputs": [
        {
          "output_type": "stream",
          "text": [
            "x: [0, -0.22, -0.39314, -0.47380718, -0.47586717265999995]\n",
            "y: [0, 0.5675, 0.9933725, 0.9899519074999998, 1.0077346454525]\n",
            "z: [0, -0.43899999999999995, -0.32059299999999996, -0.346161391, -0.3396662936169999]\n"
          ],
          "name": "stdout"
        },
        {
          "output_type": "display_data",
          "data": {
            "image/png": "[encoded data removed]",
            "text/plain": [
              "<Figure size 432x288 with 1 Axes>"
            ]
          },
          "metadata": {
            "tags": [],
            "needs_background": "light"
          }
        }
      ]
    },
    {
      "cell_type": "code",
      "metadata": {
        "id": "F_J08dq5L94a"
      },
      "source": [
        "\r\n",
        "\r\n",
        "\r\n",
        "\r\n",
        "##Método JACOBI problema 2\r\n",
        "import matplotlib.pyplot as plt\r\n",
        "import numpy"
      ],
      "execution_count": 32,
      "outputs": []
    },
    {
      "cell_type": "code",
      "metadata": {
        "colab": {
          "base_uri": "https://localhost:8080/"
        },
        "id": "3j_NvpNpL-Ix",
        "outputId": "e8d21b29-f14b-4a5d-98ca-c3fd4d159258"
      },
      "source": [
        "m=int(input('ingrese el valor de m:'))\r\n",
        "n=int(input('Ingrese el valor de n:'))\r\n",
        "ma = numpy.zeros((m,n))\r\n",
        "x=numpy.zeros((m))\r\n",
        "vector=numpy.zeros((n))\r\n",
        "comp=numpy.zeros((m))\r\n",
        "error=[]"
      ],
      "execution_count": 33,
      "outputs": [
        {
          "output_type": "stream",
          "text": [
            "ingrese el valor de m:2\n",
            "Ingrese el valor de n:2\n"
          ],
          "name": "stdout"
        }
      ]
    },
    {
      "cell_type": "code",
      "metadata": {
        "colab": {
          "base_uri": "https://localhost:8080/"
        },
        "id": "0eLKTYrWL-cJ",
        "outputId": "c660e846-3f56-4708-f947-5f3be62445ec"
      },
      "source": [
        "print ('Ingrese los valores')\r\n",
        "for r in range(0,m):\r\n",
        "    for c in range(0,n):\r\n",
        "        ma[(r),(c)]=float(input(\"Ingrese el elemento a[\"+str(r+1)+str(c+1)+\"] \"))\r\n",
        "    vector[(r)]=float(input('b['+str(r+1)+']: '))\r\n",
        "tol=float(input(\"Ingrese el error: \"))\r\n",
        "itera=int(input(\"Ingrese el número de iteraciones: \"))"
      ],
      "execution_count": 34,
      "outputs": [
        {
          "output_type": "stream",
          "text": [
            "Ingrese los valores\n",
            "Ingrese el elemento a[11] 5\n",
            "Ingrese el elemento a[12] 2\n",
            "b[1]: 12\n",
            "Ingrese el elemento a[21] -1\n",
            "Ingrese el elemento a[22] 10\n",
            "b[2]: 8\n",
            "Ingrese el error: 0.0001\n",
            "Ingrese el número de iteraciones: 4\n"
          ],
          "name": "stdout"
        }
      ]
    },
    {
      "cell_type": "code",
      "metadata": {
        "colab": {
          "base_uri": "https://localhost:8080/"
        },
        "id": "Y7Nf25joL-s5",
        "outputId": "6c316b32-6e10-4182-d377-d9020fe6ac00"
      },
      "source": [
        "k=0\r\n",
        "while k<itera:\r\n",
        "    suma=0\r\n",
        "    k=k+1\r\n",
        "    for r in range(0,m):\r\n",
        "        suma=0\r\n",
        "        for c in range(0,n):\r\n",
        "            if (c!= r):\r\n",
        "                suma=suma+ma[r,c]*x[c]               \r\n",
        "        x[r]=(vector[r]-suma)/ma[r,r]\r\n",
        "        print(\" \")\r\n",
        "        print(\"x[\"+str(r)+\"]: \"+ str(x[r]))\r\n",
        "    del error[:]\r\n",
        "    for r in range (0,m):\r\n",
        "        suma =0\r\n",
        "        for c in range(0,n):\r\n",
        "            suma= suma+ma[r,c]*x[c]\r\n",
        "        comp[r]= suma\r\n",
        "        dif=abs(comp[r]-vector[r])\r\n",
        "        error.append(dif)\r\n",
        "        print(\" \")\r\n",
        "        print(\"Error en x[\",r,\"]= \", error[r])\r\n",
        "    print(\"Iteraciones: \", k)\r\n",
        "    if all (i<=tol for i in error) == True:\r\n",
        "        break"
      ],
      "execution_count": 35,
      "outputs": [
        {
          "output_type": "stream",
          "text": [
            " \n",
            "x[0]: 2.4\n",
            " \n",
            "x[1]: 1.04\n",
            " \n",
            "Error en x[ 0 ]=  2.08\n",
            " \n",
            "Error en x[ 1 ]=  0.0\n",
            "Iteraciones:  1\n",
            " \n",
            "x[0]: 1.984\n",
            " \n",
            "x[1]: 0.9984\n",
            " \n",
            "Error en x[ 0 ]=  0.08319999999999972\n",
            " \n",
            "Error en x[ 1 ]=  0.0\n",
            "Iteraciones:  2\n",
            " \n",
            "x[0]: 2.0006399999999998\n",
            " \n",
            "x[1]: 1.000064\n",
            " \n",
            "Error en x[ 0 ]=  0.0033279999999997756\n",
            " \n",
            "Error en x[ 1 ]=  0.0\n",
            "Iteraciones:  3\n",
            " \n",
            "x[0]: 1.9999744\n",
            " \n",
            "x[1]: 0.9999974399999999\n",
            " \n",
            "Error en x[ 0 ]=  0.00013312000000098578\n",
            " \n",
            "Error en x[ 1 ]=  8.881784197001252e-16\n",
            "Iteraciones:  4\n"
          ],
          "name": "stdout"
        }
      ]
    },
    {
      "cell_type": "code",
      "metadata": {
        "colab": {
          "base_uri": "https://localhost:8080/",
          "height": 282
        },
        "id": "BhBimf04L-_p",
        "outputId": "a4a4c95b-88a1-4bcb-ef30-f2d8b44736fa"
      },
      "source": [
        "plt.plot(ma)\r\n",
        "plt.show"
      ],
      "execution_count": 36,
      "outputs": [
        {
          "output_type": "execute_result",
          "data": {
            "text/plain": [
              "<function matplotlib.pyplot.show>"
            ]
          },
          "metadata": {
            "tags": []
          },
          "execution_count": 36
        },
        {
          "output_type": "display_data",
          "data": {
            "image/png": "[encoded data removed]",
            "text/plain": [
              "<Figure size 432x288 with 1 Axes>"
            ]
          },
          "metadata": {
            "tags": [],
            "needs_background": "light"
          }
        }
      ]
    },
    {
      "cell_type": "code",
      "metadata": {
        "id": "lik2UButL_TJ"
      },
      "source": [
        "##Método GAUSS-SEIDEL problema 2\r\n",
        "import matplotlib.pyplot as plt\r\n",
        "import math"
      ],
      "execution_count": 39,
      "outputs": []
    },
    {
      "cell_type": "code",
      "metadata": {
        "colab": {
          "base_uri": "https://localhost:8080/",
          "height": 302
        },
        "id": "Fe8HzCxAL_oZ",
        "outputId": "9c610977-b37b-4b37-e666-fda9384bbad0"
      },
      "source": [
        "def Gauss():\r\n",
        "\r\n",
        "  def x2(y):\r\n",
        "    return  (2.4 - (0.4*y))\r\n",
        "  def y2(x):\r\n",
        "    return  (0.8 + (0.1*x))\r\n",
        "\r\n",
        "  x1=[0]\r\n",
        "  y1=[0]\r\n",
        "\r\n",
        "  cont = 0\r\n",
        "  x=0\r\n",
        "  y=0\r\n",
        "\r\n",
        "\r\n",
        "  while(cont < 4):\r\n",
        "    x = x2(y)\r\n",
        "    x1.append(x)\r\n",
        "    y = y2(x)\r\n",
        "    y1.append(y)\r\n",
        "    cont += 1\r\n",
        "  \r\n",
        "  print('x: '+ str (x1))\r\n",
        "  print('y: '+ str (y1))\r\n",
        "\r\n",
        "  plt.plot(x1, label = \"x\")\r\n",
        "  plt.plot(y1, label = \"y\")\r\n",
        "  plt.legend()\r\n",
        "  plt.show()\r\n",
        "\r\n",
        "Gauss()"
      ],
      "execution_count": 40,
      "outputs": [
        {
          "output_type": "stream",
          "text": [
            "x: [0, 2.4, 1.984, 2.0006399999999998, 1.9999744]\n",
            "y: [0, 1.04, 0.9984000000000001, 1.000064, 0.99999744]\n"
          ],
          "name": "stdout"
        },
        {
          "output_type": "display_data",
          "data": {
            "image/png": "[encoded data removed]",
            "text/plain": [
              "<Figure size 432x288 with 1 Axes>"
            ]
          },
          "metadata": {
            "tags": [],
            "needs_background": "light"
          }
        }
      ]
    },
    {
      "cell_type": "code",
      "metadata": {
        "id": "pwN6r1qqL_7F"
      },
      "source": [
        "\r\n",
        "\r\n",
        "\r\n",
        "##Método JACOBI problema 3\r\n",
        "import matplotlib.pyplot as plt\r\n",
        "import numpy"
      ],
      "execution_count": 41,
      "outputs": []
    },
    {
      "cell_type": "code",
      "metadata": {
        "colab": {
          "base_uri": "https://localhost:8080/"
        },
        "id": "UEYSZVwjNFwa",
        "outputId": "6c30b6d8-af37-4480-b43b-0a36b8cae0d1"
      },
      "source": [
        "m=int(input('ingrese el valor de m:'))\r\n",
        "n=int(input('Ingrese el valor de n:'))\r\n",
        "ma = numpy.zeros((m,n))\r\n",
        "x=numpy.zeros((m))\r\n",
        "vector=numpy.zeros((n))\r\n",
        "comp=numpy.zeros((m))\r\n",
        "error=[]"
      ],
      "execution_count": 42,
      "outputs": [
        {
          "output_type": "stream",
          "text": [
            "ingrese el valor de m:3\n",
            "Ingrese el valor de n:3\n"
          ],
          "name": "stdout"
        }
      ]
    },
    {
      "cell_type": "code",
      "metadata": {
        "colab": {
          "base_uri": "https://localhost:8080/"
        },
        "id": "3kTsyn3cNGEY",
        "outputId": "974f3bb8-9281-4487-90db-019d8a54238e"
      },
      "source": [
        "print ('Ingrese los valores')\r\n",
        "for r in range(0,m):\r\n",
        "    for c in range(0,n):\r\n",
        "        ma[(r),(c)]=float(input(\"Ingrese el elemento a[\"+str(r+1)+str(c+1)+\"] \"))\r\n",
        "    vector[(r)]=float(input('b['+str(r+1)+']: '))\r\n",
        "tol=float(input(\"Ingrese el error: \"))\r\n",
        "itera=int(input(\"Ingrese el número de iteraciones: \"))"
      ],
      "execution_count": 43,
      "outputs": [
        {
          "output_type": "stream",
          "text": [
            "Ingrese los valores\n",
            "Ingrese el elemento a[11] 8\n",
            "Ingrese el elemento a[12] 1\n",
            "Ingrese el elemento a[13] 0\n",
            "b[1]: 4\n",
            "Ingrese el elemento a[21] 2\n",
            "Ingrese el elemento a[22] 5\n",
            "Ingrese el elemento a[23] 0\n",
            "b[2]: 3\n",
            "Ingrese el elemento a[31] 1\n",
            "Ingrese el elemento a[32] 0\n",
            "Ingrese el elemento a[33] 4\n",
            "b[3]: 3\n",
            "Ingrese el error: 0.0001\n",
            "Ingrese el número de iteraciones: 4\n"
          ],
          "name": "stdout"
        }
      ]
    },
    {
      "cell_type": "code",
      "metadata": {
        "colab": {
          "base_uri": "https://localhost:8080/"
        },
        "id": "HJ645v21NGXx",
        "outputId": "0e79de9a-7221-4771-8b9d-5af9fac24a4e"
      },
      "source": [
        "k=0\r\n",
        "while k<itera:\r\n",
        "    suma=0\r\n",
        "    k=k+1\r\n",
        "    for r in range(0,m):\r\n",
        "        suma=0\r\n",
        "        for c in range(0,n):\r\n",
        "            if (c!= r):\r\n",
        "                suma=suma+ma[r,c]*x[c]               \r\n",
        "        x[r]=(vector[r]-suma)/ma[r,r]\r\n",
        "        print(\" \")\r\n",
        "        print(\"x[\"+str(r)+\"]: \"+ str(x[r]))\r\n",
        "    del error[:]\r\n",
        "    for r in range (0,m):\r\n",
        "        suma =0\r\n",
        "        for c in range(0,n):\r\n",
        "            suma= suma+ma[r,c]*x[c]\r\n",
        "        comp[r]= suma\r\n",
        "        dif=abs(comp[r]-vector[r])\r\n",
        "        error.append(dif)\r\n",
        "        print(\" \")\r\n",
        "        print(\"Error en x[\",r,\"]= \", error[r])\r\n",
        "    print(\"Iteraciones: \", k)\r\n",
        "    if all (i<=tol for i in error) == True:\r\n",
        "        break"
      ],
      "execution_count": 44,
      "outputs": [
        {
          "output_type": "stream",
          "text": [
            " \n",
            "x[0]: 0.5\n",
            " \n",
            "x[1]: 0.4\n",
            " \n",
            "x[2]: 0.625\n",
            " \n",
            "Error en x[ 0 ]=  0.40000000000000036\n",
            " \n",
            "Error en x[ 1 ]=  0.0\n",
            " \n",
            "Error en x[ 2 ]=  0.0\n",
            "Iteraciones:  1\n",
            " \n",
            "x[0]: 0.45\n",
            " \n",
            "x[1]: 0.42000000000000004\n",
            " \n",
            "x[2]: 0.6375\n",
            " \n",
            "Error en x[ 0 ]=  0.020000000000000462\n",
            " \n",
            "Error en x[ 1 ]=  0.0\n",
            " \n",
            "Error en x[ 2 ]=  0.0\n",
            "Iteraciones:  2\n",
            " \n",
            "x[0]: 0.4475\n",
            " \n",
            "x[1]: 0.421\n",
            " \n",
            "x[2]: 0.638125\n",
            " \n",
            "Error en x[ 0 ]=  0.001000000000000334\n",
            " \n",
            "Error en x[ 1 ]=  0.0\n",
            " \n",
            "Error en x[ 2 ]=  0.0\n",
            "Iteraciones:  3\n",
            " \n",
            "x[0]: 0.447375\n",
            " \n",
            "x[1]: 0.42105\n",
            " \n",
            "x[2]: 0.63815625\n",
            " \n",
            "Error en x[ 0 ]=  4.999999999988347e-05\n",
            " \n",
            "Error en x[ 1 ]=  0.0\n",
            " \n",
            "Error en x[ 2 ]=  0.0\n",
            "Iteraciones:  4\n"
          ],
          "name": "stdout"
        }
      ]
    },
    {
      "cell_type": "code",
      "metadata": {
        "colab": {
          "base_uri": "https://localhost:8080/",
          "height": 282
        },
        "id": "KJya7cPlNGoS",
        "outputId": "05016f2d-2d9c-405e-86d6-2fb55ea28d08"
      },
      "source": [
        "plt.plot(ma)\r\n",
        "plt.show"
      ],
      "execution_count": 45,
      "outputs": [
        {
          "output_type": "execute_result",
          "data": {
            "text/plain": [
              "<function matplotlib.pyplot.show>"
            ]
          },
          "metadata": {
            "tags": []
          },
          "execution_count": 45
        },
        {
          "output_type": "display_data",
          "data": {
            "image/png": "[encoded data removed]",
            "text/plain": [
              "<Figure size 432x288 with 1 Axes>"
            ]
          },
          "metadata": {
            "tags": [],
            "needs_background": "light"
          }
        }
      ]
    },
    {
      "cell_type": "code",
      "metadata": {
        "id": "VE0YNHlENHDE"
      },
      "source": [
        "##Método GAUSS-SEIDEL problema 3\r\n",
        "import matplotlib.pyplot as plt\r\n",
        "import math"
      ],
      "execution_count": 48,
      "outputs": []
    },
    {
      "cell_type": "code",
      "metadata": {
        "colab": {
          "base_uri": "https://localhost:8080/",
          "height": 316
        },
        "id": "HzI4wwkINHW8",
        "outputId": "0bd2960c-d69b-4eaa-ebaf-ae9be894954f"
      },
      "source": [
        "def Gauss():\r\n",
        "\r\n",
        "  def x2(y):\r\n",
        "    return  (0.5 - (0.125*y))\r\n",
        "  def y2(x):\r\n",
        "    return  (0.6 - (0.4*x))\r\n",
        "  def z2(x):\r\n",
        "    return  (0.75 - (0.25*x))\r\n",
        "\r\n",
        "  x1=[0]\r\n",
        "  y1=[0]\r\n",
        "  z1=[0]\r\n",
        "\r\n",
        "  cont = 0\r\n",
        "  x=0\r\n",
        "  y=0\r\n",
        "  z=0\r\n",
        "\r\n",
        "\r\n",
        "  while(cont < 4):\r\n",
        "    x = x2(y)\r\n",
        "    x1.append(x)\r\n",
        "    y = y2(x)\r\n",
        "    y1.append(y)\r\n",
        "    z = z2(x)\r\n",
        "    z1.append(z)\r\n",
        "\r\n",
        "    cont += 1\r\n",
        "  \r\n",
        "  print('x: '+ str (x1))\r\n",
        "  print('y: '+ str (y1))\r\n",
        "  print('z: '+ str (z1))\r\n",
        "\r\n",
        "\r\n",
        "  plt.plot(x1, label = \"x\")\r\n",
        "  plt.plot(y1, label = \"y\")\r\n",
        "  plt.plot(z1, label = \"z\")\r\n",
        "\r\n",
        "  plt.legend()\r\n",
        "  plt.show()\r\n",
        "\r\n",
        "Gauss()"
      ],
      "execution_count": 49,
      "outputs": [
        {
          "output_type": "stream",
          "text": [
            "x: [0, 0.5, 0.45, 0.4475, 0.447375]\n",
            "y: [0, 0.39999999999999997, 0.41999999999999993, 0.42099999999999993, 0.4210499999999999]\n",
            "z: [0, 0.625, 0.6375, 0.638125, 0.63815625]\n"
          ],
          "name": "stdout"
        },
        {
          "output_type": "display_data",
          "data": {
            "image/png": "[encoded data removed]",
            "text/plain": [
              "<Figure size 432x288 with 1 Axes>"
            ]
          },
          "metadata": {
            "tags": [],
            "needs_background": "light"
          }
        }
      ]
    },
    {
      "cell_type": "code",
      "metadata": {
        "id": "Pvc8hH83oubu"
      },
      "source": [
        "\r\n",
        "\r\n",
        "\r\n",
        "##Método JACOBI problema 4\r\n",
        "import matplotlib.pyplot as plt\r\n",
        "import numpy"
      ],
      "execution_count": 50,
      "outputs": []
    },
    {
      "cell_type": "code",
      "metadata": {
        "colab": {
          "base_uri": "https://localhost:8080/"
        },
        "id": "P6c1oVN5NIIG",
        "outputId": "2403db68-a598-4748-a5fa-aeb8c678f543"
      },
      "source": [
        "m=int(input('ingrese el valor de m:'))\r\n",
        "n=int(input('Ingrese el valor de n:'))\r\n",
        "ma = numpy.zeros((m,n))\r\n",
        "x=numpy.zeros((m))\r\n",
        "vector=numpy.zeros((n))\r\n",
        "comp=numpy.zeros((m))\r\n",
        "error=[]"
      ],
      "execution_count": 51,
      "outputs": [
        {
          "output_type": "stream",
          "text": [
            "ingrese el valor de m:3\n",
            "Ingrese el valor de n:3\n"
          ],
          "name": "stdout"
        }
      ]
    },
    {
      "cell_type": "code",
      "metadata": {
        "colab": {
          "base_uri": "https://localhost:8080/"
        },
        "id": "xxdihIUiNIF7",
        "outputId": "d0397b82-23d9-47d8-c4aa-81823c6f0218"
      },
      "source": [
        "print ('Ingrese los valores')\r\n",
        "for r in range(0,m):\r\n",
        "    for c in range(0,n):\r\n",
        "        ma[(r),(c)]=float(input(\"Ingrese el elemento a[\"+str(r+1)+str(c+1)+\"] \"))\r\n",
        "    vector[(r)]=float(input('b['+str(r+1)+']: '))\r\n",
        "tol=float(input(\"Ingrese el error: \"))\r\n",
        "itera=int(input(\"Ingrese el número de iteraciones: \"))"
      ],
      "execution_count": 52,
      "outputs": [
        {
          "output_type": "stream",
          "text": [
            "Ingrese los valores\n",
            "Ingrese el elemento a[11] 6\n",
            "Ingrese el elemento a[12] 2\n",
            "Ingrese el elemento a[13] 1\n",
            "b[1]: 22\n",
            "Ingrese el elemento a[21] -1\n",
            "Ingrese el elemento a[22] 8\n",
            "Ingrese el elemento a[23] 2\n",
            "b[2]: 20\n",
            "Ingrese el elemento a[31] 1\n",
            "Ingrese el elemento a[32] -1\n",
            "Ingrese el elemento a[33] 6\n",
            "b[3]: 23\n",
            "Ingrese el error: 0.0001\n",
            "Ingrese el número de iteraciones: 4\n"
          ],
          "name": "stdout"
        }
      ]
    },
    {
      "cell_type": "code",
      "metadata": {
        "colab": {
          "base_uri": "https://localhost:8080/"
        },
        "id": "5AWoQekTNIDx",
        "outputId": "c312f4ce-4b24-4977-ff06-a98b94e8a8f1"
      },
      "source": [
        "k=0\r\n",
        "while k<itera:\r\n",
        "    suma=0\r\n",
        "    k=k+1\r\n",
        "    for r in range(0,m):\r\n",
        "        suma=0\r\n",
        "        for c in range(0,n):\r\n",
        "            if (c!= r):\r\n",
        "                suma=suma+ma[r,c]*x[c]               \r\n",
        "        x[r]=(vector[r]-suma)/ma[r,r]\r\n",
        "        print(\" \")\r\n",
        "        print(\"x[\"+str(r)+\"]: \"+ str(x[r]))\r\n",
        "    del error[:]\r\n",
        "    for r in range (0,m):\r\n",
        "        suma =0\r\n",
        "        for c in range(0,n):\r\n",
        "            suma= suma+ma[r,c]*x[c]\r\n",
        "        comp[r]= suma\r\n",
        "        dif=abs(comp[r]-vector[r])\r\n",
        "        error.append(dif)\r\n",
        "        print(\" \")\r\n",
        "        print(\"Error en x[\",r,\"]= \", error[r])\r\n",
        "    print(\"Iteraciones: \", k)\r\n",
        "    if all (i<=tol for i in error) == True:\r\n",
        "        break"
      ],
      "execution_count": 53,
      "outputs": [
        {
          "output_type": "stream",
          "text": [
            " \n",
            "x[0]: 3.6666666666666665\n",
            " \n",
            "x[1]: 2.9583333333333335\n",
            " \n",
            "x[2]: 3.715277777777778\n",
            " \n",
            "Error en x[ 0 ]=  9.631944444444446\n",
            " \n",
            "Error en x[ 1 ]=  7.430555555555557\n",
            " \n",
            "Error en x[ 2 ]=  0.0\n",
            "Iteraciones:  1\n",
            " \n",
            "x[0]: 2.0613425925925926\n",
            " \n",
            "x[1]: 1.8288483796296295\n",
            " \n",
            "x[2]: 3.7945842978395063\n",
            " \n",
            "Error en x[ 0 ]=  2.1796633873456805\n",
            " \n",
            "Error en x[ 1 ]=  0.15861304012345556\n",
            " \n",
            "Error en x[ 2 ]=  0.0\n",
            "Iteraciones:  2\n",
            " \n",
            "x[0]: 2.4246198238168724\n",
            " \n",
            "x[1]: 1.8544314035172325\n",
            " \n",
            "x[2]: 3.73830192995006\n",
            " \n",
            "Error en x[ 0 ]=  0.005116320114240125\n",
            " \n",
            "Error en x[ 1 ]=  0.11256473577889281\n",
            " \n",
            "Error en x[ 2 ]=  0.0\n",
            "Iteraciones:  3\n",
            " \n",
            "x[0]: 2.4254725438359124\n",
            " \n",
            "x[1]: 1.868608585491974\n",
            " \n",
            "x[2]: 3.7405226736093433\n",
            " \n",
            "Error en x[ 0 ]=  0.03057510760876525\n",
            " \n",
            "Error en x[ 1 ]=  0.004441487318565862\n",
            " \n",
            "Error en x[ 2 ]=  0.0\n",
            "Iteraciones:  4\n"
          ],
          "name": "stdout"
        }
      ]
    },
    {
      "cell_type": "code",
      "metadata": {
        "colab": {
          "base_uri": "https://localhost:8080/",
          "height": 282
        },
        "id": "2l17bIuHNIAp",
        "outputId": "8f231955-3349-4a07-a118-18492196d6e5"
      },
      "source": [
        "plt.plot(ma)\r\n",
        "plt.show"
      ],
      "execution_count": 54,
      "outputs": [
        {
          "output_type": "execute_result",
          "data": {
            "text/plain": [
              "<function matplotlib.pyplot.show>"
            ]
          },
          "metadata": {
            "tags": []
          },
          "execution_count": 54
        },
        {
          "output_type": "display_data",
          "data": {
            "image/png": "[encoded data removed]",
            "text/plain": [
              "<Figure size 432x288 with 1 Axes>"
            ]
          },
          "metadata": {
            "tags": [],
            "needs_background": "light"
          }
        }
      ]
    },
    {
      "cell_type": "code",
      "metadata": {
        "id": "Y-dNJ6EPNH1x"
      },
      "source": [
        "##Método GAUSS-SEIDEL problema 4\r\n",
        "import matplotlib.pyplot as plt\r\n",
        "import math"
      ],
      "execution_count": 55,
      "outputs": []
    },
    {
      "cell_type": "code",
      "metadata": {
        "colab": {
          "base_uri": "https://localhost:8080/",
          "height": 316
        },
        "id": "O7GoPUM3NHmo",
        "outputId": "98e828f5-b7d6-4c63-cbbe-c41f64604d67"
      },
      "source": [
        "def Gauss():\r\n",
        "\r\n",
        "  def x2(y,z):\r\n",
        "    return  (3.66 - (0.33*y) - (0.166*z))\r\n",
        "  def y2(x,z):\r\n",
        "    return  (2.5 + (0.125*x) - (0.25*z))\r\n",
        "  def z2(x,y):\r\n",
        "    return  (3.833 - (0.166*x) + (0.166*y))\r\n",
        "\r\n",
        "  x1=[0]\r\n",
        "  y1=[0]\r\n",
        "  z1=[0]\r\n",
        "\r\n",
        "  cont = 0\r\n",
        "  x=0\r\n",
        "  y=0\r\n",
        "  z=0\r\n",
        "\r\n",
        "\r\n",
        "  while(cont < 4):\r\n",
        "    x = x2(y,z)\r\n",
        "    x1.append(x)\r\n",
        "    y = y2(x,z)\r\n",
        "    y1.append(y)\r\n",
        "    z = z2(x,y)\r\n",
        "    z1.append(z)\r\n",
        "\r\n",
        "    cont += 1\r\n",
        "  \r\n",
        "  print('x: '+ str (x1))\r\n",
        "  print('y: '+ str (y1))\r\n",
        "  print('z: '+ str (z1))\r\n",
        " \r\n",
        "\r\n",
        "  plt.plot(x1, label = \"x\")\r\n",
        "  plt.plot(y1, label = \"y\")\r\n",
        "  plt.plot(z1, label = \"z\")\r\n",
        " \r\n",
        "  plt.legend()\r\n",
        "  plt.show()\r\n",
        "\r\n",
        "Gauss()"
      ],
      "execution_count": 56,
      "outputs": [
        {
          "output_type": "stream",
          "text": [
            "x: [0, 3.66, 2.06710509, 2.4266088581800354, 2.42734279226206]\n",
            "y: [0, 2.9575, 1.8292918862499998, 1.8549453552281294, 1.8688918844052615]\n",
            "z: [0, 3.716385, 3.7935230081775, 3.7381038585099837, 3.7402971492957717]\n"
          ],
          "name": "stdout"
        },
        {
          "output_type": "display_data",
          "data": {
            "image/png": "[encoded data removed]",
            "text/plain": [
              "<Figure size 432x288 with 1 Axes>"
            ]
          },
          "metadata": {
            "tags": [],
            "needs_background": "light"
          }
        }
      ]
    },
    {
      "cell_type": "code",
      "metadata": {
        "id": "5LokEfLgNHVh"
      },
      "source": [
        ""
      ],
      "execution_count": null,
      "outputs": []
    },
    {
      "cell_type": "code",
      "metadata": {
        "id": "2JjjEGgKNHBo"
      },
      "source": [
        ""
      ],
      "execution_count": null,
      "outputs": []
    }
  ]
}